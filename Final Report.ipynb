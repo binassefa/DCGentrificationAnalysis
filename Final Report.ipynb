{
 "cells": [
  {
   "cell_type": "markdown",
   "metadata": {},
   "source": [
    "“Building Permits in 2009”, Accessed from https://opendata.dc.gov/datasets/building-permits-in-2009?geometry=-81.277%2C38.554%2C-72.608%2C41.498 on 12/10/2019 \n",
    "\n",
    "“Building Permits in 2010”, Accessed from https://opendata.dc.gov/datasets/building-permits-in-2010?geometry=-81.277%2C38.554%2C-72.608%2C41.498 on 12/10/2019 \n",
    "\n",
    "“Building Permits in 2011”, Accessed from https://opendata.dc.gov/datasets/building-permits-in-2011?geometry=-81.277%2C38.554%2C-72.608%2C41.498 on 12/10/2019 \n",
    "\n",
    "“Building Permits in 2012”, Accessed from https://opendata.dc.gov/datasets/building-permits-in-2012?geometry=-81.277%2C38.554%2C-72.608%2C41.498 on 12/10/2019 \n",
    "\n",
    "“Ward from 2012”, Accessed from https://opendata.dc.gov/datasets/0ef47379cbae44e88267c01eaec2ff6e_31?geometry=-77.556%2C38.707%2C-76.473%2C39.081 on 12/10/2019 \n",
    "\n",
    "“Wards by Population in 2002”, Accessed from https://opendata.dc.gov/datasets/wards-by-population-in-2002?geometry=-78.103%2C38.707%2C-75.925%2C39.081 on 12/10/2019 "
   ]
  },
  {
   "cell_type": "markdown",
   "metadata": {},
   "source": [
    "# Introduction"
   ]
  },
  {
   "cell_type": "markdown",
   "metadata": {},
   "source": [
    "Google defines \"Gentrification\" as the the process of renovating and improving a house or district so that it conforms to middle-class taste. This concept has been really prevalent in the media as we, as a society, have been becoming more aware of the injustices that plague our day to day lives. Gentrification not only adds bland conformity to our colorful cities, but also displaces low-income and minority citizens. The big question is how do you measure Gentrification? Sure you can visibly SEE the changes, but how are those changes reflected through data? Moreso, what specifically leads to Gentrification and how can we limit it in the future?\n",
    "\n",
    "To answer these questions, I looked at Washington D.C. I feel like DC is an excellent example of gentrification. In the 1970s and 1980s, DC was regarded as \"Dodge City\". It was referred to as such due to high crime rates as well as low income. However, in recent years it has become an upper-middle class utopia so much so that the Washington Post reported it to be the city with the highest rates of Gentrification.\n",
    "\n",
    "In order to observe and measure Gentrification, I primarily looked at Census Informationan and Approved Building Permits in DC. I recieved all my data from OpenDataDC. To better observe the trends and work with given data, I decided to look at how Median Income and the ammount of Building Permits issued across DC's 8 wards changed from 2002 to 2012. \n"
   ]
  },
  {
   "cell_type": "markdown",
   "metadata": {},
   "source": [
    "# Method"
   ]
  },
  {
   "cell_type": "markdown",
   "metadata": {},
   "source": [
    "To begin the analysis, I started by reading in the data. There were several different CSV files so I made a unique variable for each. The CSVs contained a lot of useful data; however all of it was not relevant to my research goal. In order to seperate what I needed from everything else, I create a subsetted dataframe from each of the CSV.\n",
    "\n",
    "After subsetting the data, I merged similar dataframes together to make them easier to manipulate and work with. I did this on the \"Ward\" columns across both my types of data so that in the end I could combine them if neccessay(which I did).\n",
    "\n",
    "The next step are calculations. For the income table, I added a column that calculated the net change in median income from 2002 to 2012. I did this by subtracting the 2012 income from the 2002 income. I then divide this number by the 2002 income and multiply by 100. Positive number indicate an increase while negative number would indicate a decrease. For the Building Permit table I simply added up all 4 years to get the total ammount of building permits for each ward.\n",
    "\n",
    "At this point, I had 3 dataframes; Income, Building Permits, All Data.\n",
    "\n",
    "From here, I made 3 seperate graphs to meaningfully represent the data. I made a Map, a Line plot, and a Scatter Plot. \n",
    "\n",
    "For the map, I used the GeoPandas library. This helps you plot geographical data in order to make useful visualizations. This visualization shows each ward as a specific shade of blue that corresponds to their net change in Median income. The darker the blue, the more positive the change was.\n",
    "\n",
    "For the line plot, I had to manipulate the dataframes to get it into the right format. I made a copy of the Permit table then melted it to have the years as one column. From there, I pivoted it to have it indexed by year with Wards being their own columns. After this was done, I used the .plot function to make a line for each ward to represent how their number of permits changed from year to year.\n",
    "\n",
    "For the scatter plot, I made a subset of the total number of permits, the net change, and the ward. From there, I used the .plot function (specifcally scatter) to create the plot. This plot represents the relationship between the net change of a ward to the number of building permits. Below the plot, I also ran a Correlation to see what the correlation coefficient between the two is (because it is not evident from just seeing the plot)."
   ]
  },
  {
   "cell_type": "markdown",
   "metadata": {},
   "source": [
    "# Preprocessing"
   ]
  },
  {
   "cell_type": "code",
   "execution_count": 66,
   "metadata": {},
   "outputs": [],
   "source": [
    "import pandas as pd\n",
    "import numpy as np\n",
    "import matplotlib.pyplot as plt\n",
    "%matplotlib inline\n",
    "import geopandas as gpd\n",
    "from shapely.geometry import Point, Polygon"
   ]
  },
  {
   "cell_type": "code",
   "execution_count": 58,
   "metadata": {},
   "outputs": [
    {
     "name": "stderr",
     "output_type": "stream",
     "text": [
      "C:\\Users\\assef\\Anaconda3\\lib\\site-packages\\IPython\\core\\interactiveshell.py:3058: DtypeWarning: Columns (8) have mixed types. Specify dtype option on import or set low_memory=False.\n",
      "  interactivity=interactivity, compiler=compiler, result=result)\n"
     ]
    }
   ],
   "source": [
    "two_data = pd.read_csv('2002 Data.csv')\n",
    "twelve_data = pd.read_csv('2012 Data.csv')\n",
    "\n",
    "nine_perm = pd.read_csv('2009 Permits.csv')\n",
    "ten_perm = pd.read_csv('2010 Permits.csv')\n",
    "eleven_perm = pd.read_csv('2011 Permits.csv')\n",
    "twelve_perm = pd.read_csv('2012 Permits.csv')"
   ]
  },
  {
   "cell_type": "code",
   "execution_count": 63,
   "metadata": {},
   "outputs": [
    {
     "data": {
      "text/html": [
       "<div>\n",
       "<style scoped>\n",
       "    .dataframe tbody tr th:only-of-type {\n",
       "        vertical-align: middle;\n",
       "    }\n",
       "\n",
       "    .dataframe tbody tr th {\n",
       "        vertical-align: top;\n",
       "    }\n",
       "\n",
       "    .dataframe thead th {\n",
       "        text-align: right;\n",
       "    }\n",
       "</style>\n",
       "<table border=\"1\" class=\"dataframe\">\n",
       "  <thead>\n",
       "    <tr style=\"text-align: right;\">\n",
       "      <th></th>\n",
       "      <th>Ward</th>\n",
       "      <th>2002_MI</th>\n",
       "      <th>2012_MI</th>\n",
       "      <th>Percent_Change</th>\n",
       "    </tr>\n",
       "  </thead>\n",
       "  <tbody>\n",
       "    <tr>\n",
       "      <td>3</td>\n",
       "      <td>1</td>\n",
       "      <td>36902</td>\n",
       "      <td>82159</td>\n",
       "      <td>122.641049</td>\n",
       "    </tr>\n",
       "    <tr>\n",
       "      <td>4</td>\n",
       "      <td>2</td>\n",
       "      <td>44742</td>\n",
       "      <td>100388</td>\n",
       "      <td>124.370837</td>\n",
       "    </tr>\n",
       "    <tr>\n",
       "      <td>2</td>\n",
       "      <td>3</td>\n",
       "      <td>71875</td>\n",
       "      <td>112873</td>\n",
       "      <td>57.040696</td>\n",
       "    </tr>\n",
       "    <tr>\n",
       "      <td>1</td>\n",
       "      <td>4</td>\n",
       "      <td>46408</td>\n",
       "      <td>74600</td>\n",
       "      <td>60.748147</td>\n",
       "    </tr>\n",
       "    <tr>\n",
       "      <td>0</td>\n",
       "      <td>5</td>\n",
       "      <td>34433</td>\n",
       "      <td>57554</td>\n",
       "      <td>67.147794</td>\n",
       "    </tr>\n",
       "    <tr>\n",
       "      <td>7</td>\n",
       "      <td>6</td>\n",
       "      <td>41554</td>\n",
       "      <td>94343</td>\n",
       "      <td>127.037108</td>\n",
       "    </tr>\n",
       "    <tr>\n",
       "      <td>6</td>\n",
       "      <td>7</td>\n",
       "      <td>30533</td>\n",
       "      <td>39165</td>\n",
       "      <td>28.271051</td>\n",
       "    </tr>\n",
       "    <tr>\n",
       "      <td>5</td>\n",
       "      <td>8</td>\n",
       "      <td>25017</td>\n",
       "      <td>30910</td>\n",
       "      <td>23.555982</td>\n",
       "    </tr>\n",
       "  </tbody>\n",
       "</table>\n",
       "</div>"
      ],
      "text/plain": [
       "   Ward  2002_MI  2012_MI  Percent_Change\n",
       "3     1    36902    82159      122.641049\n",
       "4     2    44742   100388      124.370837\n",
       "2     3    71875   112873       57.040696\n",
       "1     4    46408    74600       60.748147\n",
       "0     5    34433    57554       67.147794\n",
       "7     6    41554    94343      127.037108\n",
       "6     7    30533    39165       28.271051\n",
       "5     8    25017    30910       23.555982"
      ]
     },
     "execution_count": 63,
     "metadata": {},
     "output_type": "execute_result"
    }
   ],
   "source": [
    "two_rel = two_data[['WARD_ID', 'MINC_DL']]\n",
    "two_rel.columns = ['Ward', '2002_MI']\n",
    "\n",
    "twel_rel = twelve_data[['WARD', 'MEDIAN_HH_INCOME']]\n",
    "twel_rel.columns = ['Ward', '2012_MI']\n",
    "\n",
    "data = pd.merge(two_rel, twel_rel, how='inner', on='Ward')\n",
    "data = data.reset_index()\n",
    "data.columns = [\"1\", 'Ward', '2002_MI', '2012_MI']\n",
    "\n",
    "del data[\"1\"]\n",
    "\n",
    "data = data.sort_values(by=['Ward'])\n",
    "data['Percent_Change'] = (((data['2012_MI'] - data['2002_MI'])/ data['2002_MI'])*100)\n",
    "data"
   ]
  },
  {
   "cell_type": "code",
   "execution_count": 116,
   "metadata": {},
   "outputs": [
    {
     "data": {
      "text/html": [
       "<div>\n",
       "<style scoped>\n",
       "    .dataframe tbody tr th:only-of-type {\n",
       "        vertical-align: middle;\n",
       "    }\n",
       "\n",
       "    .dataframe tbody tr th {\n",
       "        vertical-align: top;\n",
       "    }\n",
       "\n",
       "    .dataframe thead th {\n",
       "        text-align: right;\n",
       "    }\n",
       "</style>\n",
       "<table border=\"1\" class=\"dataframe\">\n",
       "  <thead>\n",
       "    <tr style=\"text-align: right;\">\n",
       "      <th></th>\n",
       "      <th>Ward</th>\n",
       "      <th>2009</th>\n",
       "      <th>2010</th>\n",
       "      <th>2011</th>\n",
       "      <th>2012</th>\n",
       "      <th>4_Year_Total</th>\n",
       "    </tr>\n",
       "  </thead>\n",
       "  <tbody>\n",
       "    <tr>\n",
       "      <td>0</td>\n",
       "      <td>1</td>\n",
       "      <td>2773</td>\n",
       "      <td>3048</td>\n",
       "      <td>3425</td>\n",
       "      <td>3694</td>\n",
       "      <td>12940</td>\n",
       "    </tr>\n",
       "    <tr>\n",
       "      <td>1</td>\n",
       "      <td>2</td>\n",
       "      <td>6516</td>\n",
       "      <td>7412</td>\n",
       "      <td>8798</td>\n",
       "      <td>9332</td>\n",
       "      <td>32058</td>\n",
       "    </tr>\n",
       "    <tr>\n",
       "      <td>2</td>\n",
       "      <td>3</td>\n",
       "      <td>3638</td>\n",
       "      <td>4189</td>\n",
       "      <td>4639</td>\n",
       "      <td>4933</td>\n",
       "      <td>17399</td>\n",
       "    </tr>\n",
       "    <tr>\n",
       "      <td>3</td>\n",
       "      <td>4</td>\n",
       "      <td>2954</td>\n",
       "      <td>3832</td>\n",
       "      <td>3798</td>\n",
       "      <td>4363</td>\n",
       "      <td>14947</td>\n",
       "    </tr>\n",
       "    <tr>\n",
       "      <td>4</td>\n",
       "      <td>5</td>\n",
       "      <td>2933</td>\n",
       "      <td>3834</td>\n",
       "      <td>4345</td>\n",
       "      <td>5456</td>\n",
       "      <td>16568</td>\n",
       "    </tr>\n",
       "    <tr>\n",
       "      <td>5</td>\n",
       "      <td>6</td>\n",
       "      <td>5411</td>\n",
       "      <td>6444</td>\n",
       "      <td>7119</td>\n",
       "      <td>6678</td>\n",
       "      <td>25652</td>\n",
       "    </tr>\n",
       "    <tr>\n",
       "      <td>6</td>\n",
       "      <td>7</td>\n",
       "      <td>2023</td>\n",
       "      <td>2258</td>\n",
       "      <td>2344</td>\n",
       "      <td>2467</td>\n",
       "      <td>9092</td>\n",
       "    </tr>\n",
       "    <tr>\n",
       "      <td>7</td>\n",
       "      <td>8</td>\n",
       "      <td>1719</td>\n",
       "      <td>1825</td>\n",
       "      <td>1909</td>\n",
       "      <td>1715</td>\n",
       "      <td>7168</td>\n",
       "    </tr>\n",
       "  </tbody>\n",
       "</table>\n",
       "</div>"
      ],
      "text/plain": [
       "   Ward  2009  2010  2011  2012  4_Year_Total\n",
       "0     1  2773  3048  3425  3694         12940\n",
       "1     2  6516  7412  8798  9332         32058\n",
       "2     3  3638  4189  4639  4933         17399\n",
       "3     4  2954  3832  3798  4363         14947\n",
       "4     5  2933  3834  4345  5456         16568\n",
       "5     6  5411  6444  7119  6678         25652\n",
       "6     7  2023  2258  2344  2467          9092\n",
       "7     8  1719  1825  1909  1715          7168"
      ]
     },
     "execution_count": 116,
     "metadata": {},
     "output_type": "execute_result"
    }
   ],
   "source": [
    "build_count_09 = nine_perm[['WARD', 'PERMIT_ID']].groupby(['WARD']).count()\n",
    "build_count_09 = build_count_09.reset_index()\n",
    "build_count_09.columns = ['Ward', '2009']\n",
    "\n",
    "build_count_10 = ten_perm[['WARD', 'PERMIT_ID']].groupby(['WARD']).count()\n",
    "build_count_10 = build_count_10.reset_index()\n",
    "build_count_10.columns = ['Ward', '2010']\n",
    "\n",
    "build_count_11 = eleven_perm[['WARD', 'PERMIT_ID']].groupby(['WARD']).count()\n",
    "build_count_11 = build_count_11.reset_index()\n",
    "build_count_11.columns = ['Ward', '2011']\n",
    "\n",
    "build_count_12 = twelve_perm[['WARD', 'PERMIT_ID']].groupby(['WARD']).count()\n",
    "build_count_12 = build_count_12.reset_index()\n",
    "build_count_12.columns = ['Ward', '2012']\n",
    "\n",
    "building_data = pd.merge(build_count_09, build_count_10, how='inner', on='Ward')\n",
    "building_data = pd.merge(building_data, build_count_11, how='inner', on='Ward')\n",
    "building_data = pd.merge(building_data, build_count_12, how='inner', on='Ward')\n",
    "\n",
    "building_data[\"4_Year_Total\"] = (building_data[\"2009\"]+building_data[\"2010\"]+building_data[\"2011\"]+building_data[\"2012\"])\n",
    "building_data"
   ]
  },
  {
   "cell_type": "code",
   "execution_count": 147,
   "metadata": {},
   "outputs": [
    {
     "data": {
      "text/html": [
       "<div>\n",
       "<style scoped>\n",
       "    .dataframe tbody tr th:only-of-type {\n",
       "        vertical-align: middle;\n",
       "    }\n",
       "\n",
       "    .dataframe tbody tr th {\n",
       "        vertical-align: top;\n",
       "    }\n",
       "\n",
       "    .dataframe thead th {\n",
       "        text-align: right;\n",
       "    }\n",
       "</style>\n",
       "<table border=\"1\" class=\"dataframe\">\n",
       "  <thead>\n",
       "    <tr style=\"text-align: right;\">\n",
       "      <th></th>\n",
       "      <th>Ward</th>\n",
       "      <th>2009</th>\n",
       "      <th>2010</th>\n",
       "      <th>2011</th>\n",
       "      <th>2012</th>\n",
       "      <th>4_Year_Total</th>\n",
       "      <th>2002_MI</th>\n",
       "      <th>2012_MI</th>\n",
       "      <th>Percent_Change</th>\n",
       "    </tr>\n",
       "  </thead>\n",
       "  <tbody>\n",
       "    <tr>\n",
       "      <td>0</td>\n",
       "      <td>1</td>\n",
       "      <td>2773</td>\n",
       "      <td>3048</td>\n",
       "      <td>3425</td>\n",
       "      <td>3694</td>\n",
       "      <td>12940</td>\n",
       "      <td>36902</td>\n",
       "      <td>82159</td>\n",
       "      <td>122.641049</td>\n",
       "    </tr>\n",
       "    <tr>\n",
       "      <td>1</td>\n",
       "      <td>2</td>\n",
       "      <td>6516</td>\n",
       "      <td>7412</td>\n",
       "      <td>8798</td>\n",
       "      <td>9332</td>\n",
       "      <td>32058</td>\n",
       "      <td>44742</td>\n",
       "      <td>100388</td>\n",
       "      <td>124.370837</td>\n",
       "    </tr>\n",
       "    <tr>\n",
       "      <td>2</td>\n",
       "      <td>3</td>\n",
       "      <td>3638</td>\n",
       "      <td>4189</td>\n",
       "      <td>4639</td>\n",
       "      <td>4933</td>\n",
       "      <td>17399</td>\n",
       "      <td>71875</td>\n",
       "      <td>112873</td>\n",
       "      <td>57.040696</td>\n",
       "    </tr>\n",
       "    <tr>\n",
       "      <td>3</td>\n",
       "      <td>4</td>\n",
       "      <td>2954</td>\n",
       "      <td>3832</td>\n",
       "      <td>3798</td>\n",
       "      <td>4363</td>\n",
       "      <td>14947</td>\n",
       "      <td>46408</td>\n",
       "      <td>74600</td>\n",
       "      <td>60.748147</td>\n",
       "    </tr>\n",
       "    <tr>\n",
       "      <td>4</td>\n",
       "      <td>5</td>\n",
       "      <td>2933</td>\n",
       "      <td>3834</td>\n",
       "      <td>4345</td>\n",
       "      <td>5456</td>\n",
       "      <td>16568</td>\n",
       "      <td>34433</td>\n",
       "      <td>57554</td>\n",
       "      <td>67.147794</td>\n",
       "    </tr>\n",
       "    <tr>\n",
       "      <td>5</td>\n",
       "      <td>6</td>\n",
       "      <td>5411</td>\n",
       "      <td>6444</td>\n",
       "      <td>7119</td>\n",
       "      <td>6678</td>\n",
       "      <td>25652</td>\n",
       "      <td>41554</td>\n",
       "      <td>94343</td>\n",
       "      <td>127.037108</td>\n",
       "    </tr>\n",
       "    <tr>\n",
       "      <td>6</td>\n",
       "      <td>7</td>\n",
       "      <td>2023</td>\n",
       "      <td>2258</td>\n",
       "      <td>2344</td>\n",
       "      <td>2467</td>\n",
       "      <td>9092</td>\n",
       "      <td>30533</td>\n",
       "      <td>39165</td>\n",
       "      <td>28.271051</td>\n",
       "    </tr>\n",
       "    <tr>\n",
       "      <td>7</td>\n",
       "      <td>8</td>\n",
       "      <td>1719</td>\n",
       "      <td>1825</td>\n",
       "      <td>1909</td>\n",
       "      <td>1715</td>\n",
       "      <td>7168</td>\n",
       "      <td>25017</td>\n",
       "      <td>30910</td>\n",
       "      <td>23.555982</td>\n",
       "    </tr>\n",
       "  </tbody>\n",
       "</table>\n",
       "</div>"
      ],
      "text/plain": [
       "   Ward  2009  2010  2011  2012  4_Year_Total  2002_MI  2012_MI  \\\n",
       "0     1  2773  3048  3425  3694         12940    36902    82159   \n",
       "1     2  6516  7412  8798  9332         32058    44742   100388   \n",
       "2     3  3638  4189  4639  4933         17399    71875   112873   \n",
       "3     4  2954  3832  3798  4363         14947    46408    74600   \n",
       "4     5  2933  3834  4345  5456         16568    34433    57554   \n",
       "5     6  5411  6444  7119  6678         25652    41554    94343   \n",
       "6     7  2023  2258  2344  2467          9092    30533    39165   \n",
       "7     8  1719  1825  1909  1715          7168    25017    30910   \n",
       "\n",
       "   Percent_Change  \n",
       "0      122.641049  \n",
       "1      124.370837  \n",
       "2       57.040696  \n",
       "3       60.748147  \n",
       "4       67.147794  \n",
       "5      127.037108  \n",
       "6       28.271051  \n",
       "7       23.555982  "
      ]
     },
     "execution_count": 147,
     "metadata": {},
     "output_type": "execute_result"
    }
   ],
   "source": [
    "total_data = pd.merge(building_data, data, how='inner', on='Ward')\n",
    "total_data"
   ]
  },
  {
   "cell_type": "markdown",
   "metadata": {},
   "source": [
    "# Results"
   ]
  },
  {
   "cell_type": "code",
   "execution_count": 85,
   "metadata": {
    "scrolled": false
   },
   "outputs": [
    {
     "data": {
      "text/plain": [
       "<matplotlib.axes._subplots.AxesSubplot at 0x1e62ac458c8>"
      ]
     },
     "execution_count": 85,
     "metadata": {},
     "output_type": "execute_result"
    },
    {
     "data": {
      "image/png": "[encoded data removed]",
      "text/plain": [
       "<Figure size 720x432 with 2 Axes>"
      ]
     },
     "metadata": {
      "needs_background": "light"
     },
     "output_type": "display_data"
    }
   ],
   "source": [
    "map_DC = gpd.read_file('DC_Shapefile/Ward_from_2012.shp')\n",
    "\n",
    "merged = map_DC.set_index('WARD').join(data.set_index('Ward'))\n",
    "merged.head()\n",
    "\n",
    "\n",
    "variable = 'Percent_Change'\n",
    "vmin, vmax = 20, 122\n",
    "fig, ax = plt.subplots(1, figsize=(10, 6))\n",
    "ax.axis('off')\n",
    "ax.set_title('Median Income Growth Rate 2002-2012', fontdict={'fontsize': '25', 'fontweight' : '3'})\n",
    "\n",
    "sm = plt.cm.ScalarMappable(cmap='Blues', norm=plt.Normalize(vmin=vmin, vmax=vmax))\n",
    "sm._A = []\n",
    "cbar = fig.colorbar(sm)\n",
    "\n",
    "merged.plot(column=variable, cmap='Blues', linewidth=0.8, ax=ax, edgecolor='0.8')"
   ]
  },
  {
   "cell_type": "code",
   "execution_count": 143,
   "metadata": {},
   "outputs": [
    {
     "data": {
      "text/plain": [
       "<matplotlib.axes._subplots.AxesSubplot at 0x1e628f8ffc8>"
      ]
     },
     "execution_count": 143,
     "metadata": {},
     "output_type": "execute_result"
    },
    {
     "data": {
      "image/png": "[encoded data removed]",
      "text/plain": [
       "<Figure size 432x288 with 1 Axes>"
      ]
     },
     "metadata": {
      "needs_background": "light"
     },
     "output_type": "display_data"
    }
   ],
   "source": [
    "graph_df = building_data.copy()\n",
    "del graph_df['4_Year_Total']\n",
    "graph = pd.melt(graph_df, id_vars=['Ward'], value_vars=['2009', '2010', '2011', '2012'], var_name = 'Year', value_name='Number_of_Permits')\n",
    "\n",
    "line_fin = graph.pivot(index='Year', columns='Ward', values='Number_of_Permits')\n",
    "ax.set_ylabel(\"Number of Building Permits\")\n",
    "\n",
    "line_fin.plot(title= \"Building Permits over 4 years\")"
   ]
  },
  {
   "cell_type": "code",
   "execution_count": 149,
   "metadata": {},
   "outputs": [
    {
     "data": {
      "text/plain": [
       "<matplotlib.axes._subplots.AxesSubplot at 0x1e629f7c108>"
      ]
     },
     "execution_count": 149,
     "metadata": {},
     "output_type": "execute_result"
    },
    {
     "data": {
      "image/png": "[encoded data removed]",
      "text/plain": [
       "<Figure size 432x288 with 1 Axes>"
      ]
     },
     "metadata": {
      "needs_background": "light"
     },
     "output_type": "display_data"
    }
   ],
   "source": [
    "scatter_data = total_data[['Ward', 'Percent_Change', '4_Year_Total']]\n",
    "scatter_data.plot(kind='scatter',x='4_Year_Total',y='Percent_Change',color='red')"
   ]
  },
  {
   "cell_type": "code",
   "execution_count": 151,
   "metadata": {},
   "outputs": [
    {
     "data": {
      "text/html": [
       "<div>\n",
       "<style scoped>\n",
       "    .dataframe tbody tr th:only-of-type {\n",
       "        vertical-align: middle;\n",
       "    }\n",
       "\n",
       "    .dataframe tbody tr th {\n",
       "        vertical-align: top;\n",
       "    }\n",
       "\n",
       "    .dataframe thead th {\n",
       "        text-align: right;\n",
       "    }\n",
       "</style>\n",
       "<table border=\"1\" class=\"dataframe\">\n",
       "  <thead>\n",
       "    <tr style=\"text-align: right;\">\n",
       "      <th></th>\n",
       "      <th>Ward</th>\n",
       "      <th>Percent_Change</th>\n",
       "      <th>4_Year_Total</th>\n",
       "    </tr>\n",
       "  </thead>\n",
       "  <tbody>\n",
       "    <tr>\n",
       "      <td>Ward</td>\n",
       "      <td>1.000000</td>\n",
       "      <td>-0.652636</td>\n",
       "      <td>-0.452886</td>\n",
       "    </tr>\n",
       "    <tr>\n",
       "      <td>Percent_Change</td>\n",
       "      <td>-0.652636</td>\n",
       "      <td>1.000000</td>\n",
       "      <td>0.765043</td>\n",
       "    </tr>\n",
       "    <tr>\n",
       "      <td>4_Year_Total</td>\n",
       "      <td>-0.452886</td>\n",
       "      <td>0.765043</td>\n",
       "      <td>1.000000</td>\n",
       "    </tr>\n",
       "  </tbody>\n",
       "</table>\n",
       "</div>"
      ],
      "text/plain": [
       "                    Ward  Percent_Change  4_Year_Total\n",
       "Ward            1.000000       -0.652636     -0.452886\n",
       "Percent_Change -0.652636        1.000000      0.765043\n",
       "4_Year_Total   -0.452886        0.765043      1.000000"
      ]
     },
     "execution_count": 151,
     "metadata": {},
     "output_type": "execute_result"
    }
   ],
   "source": [
    "pearsoncorr = scatter_data.corr(method='pearson')\n",
    "pearsoncorr"
   ]
  },
  {
   "cell_type": "markdown",
   "metadata": {},
   "source": [
    "# Discussion"
   ]
  },
  {
   "cell_type": "markdown",
   "metadata": {},
   "source": [
    "Looking at the map, you can see that there are distinct divisions between the areas with major increase in Median income. Wards 1,2,6 are the areas with almost 120% increases. That over 2 times what is was before. Wards 3,4,5 also received a hefty increase to their Median Income. And when you look at Wards 7,8 they increased by a measly 20%. However, these are just numbers. Lets think of it from a geophysical perpespective. Wards 1,2,6 are home to Capitol Hill and Downtown DC. It would make sense that these areas would attract higher income citizens. \n",
    "\n",
    "Similarly, the line graph make sense when you consider the maginitude of the areas that are consistenly high. One thing that I did notice was that Ward 5 had a uptick in Building Permits. Further investigation on planning.dc.gov revealed that several new town houses and neighborhoods had been developed in Ward 5, along with the inclusion of a new town centre. This falls in line with the definition of gentrification I provided earlier.\n",
    "\n",
    "Finally, the scatter plot showed there to be a positve relationship between a net change in Median income and building permits. On a scale of -1 to 1, the scatterplot had a score of .76, meaning the relationship is strong. For every increase in building permits, there is an increase in net income. This does not neccesarily mean that one causes the other, but they are heavily related with one another. This is consistent with other studies done about Gentrification."
   ]
  },
  {
   "cell_type": "markdown",
   "metadata": {},
   "source": [
    "# Limitations"
   ]
  },
  {
   "cell_type": "markdown",
   "metadata": {},
   "source": [
    "Some factors that limited the scope and extent of my analysis are confouding variables and misleading/incomplete data. Several things can impact both an increase in Median Income and Building Permits. For example heavy damage to building from natural disaster can result in a higher ammount of building permits for a given ward. DC also recently increased minimum wage. These factors could skew the analysis heavily\n",
    "\n",
    "Another issue that could possibly impact the analysis is misleading data. One thing I considered was the fact that that inflation might contribute to why the rapid increases in median income. Another thing that could hurt the credibility is missing data. On OpenData, there was only Permit data from 2009-2012. That means 6 years are neglected. Similarly, the site only had income data for a sporadic set of years. I had to pick and choose specifc data that I felt would give a representative overview of the problem. This is not only misleading, but also introduces bias."
   ]
  },
  {
   "cell_type": "markdown",
   "metadata": {},
   "source": [
    "# Conclusion"
   ]
  },
  {
   "cell_type": "markdown",
   "metadata": {},
   "source": [
    "In summary, there seems to be positive correlation between the ammount of building permits and net median income a ward has. However, due to confounding variables and incomplete data further investigation is required to understand whether or not DC is truly becoming gentrified. This new analysis should also take into account the history of the area in order to make sure of the results."
   ]
  }
 ],
 "metadata": {
  "kernelspec": {
   "display_name": "Python 3",
   "language": "python",
   "name": "python3"
  },
  "language_info": {
   "codemirror_mode": {
    "name": "ipython",
    "version": 3
   },
   "file_extension": ".py",
   "mimetype": "text/x-python",
   "name": "python",
   "nbconvert_exporter": "python",
   "pygments_lexer": "ipython3",
   "version": "3.7.4"
  }
 },
 "nbformat": 4,
 "nbformat_minor": 2
}
